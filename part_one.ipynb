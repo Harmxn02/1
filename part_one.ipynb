{
 "cells": [
  {
   "cell_type": "markdown",
   "metadata": {},
   "source": [
    "# Trending Topics in AI\n",
    "Assignment 1: Apply and fine-tune transformer models"
   ]
  },
  {
   "cell_type": "code",
   "execution_count": 1,
   "metadata": {},
   "outputs": [
    {
     "name": "stdout",
     "output_type": "stream",
     "text": [
      "Using device: cuda\n"
     ]
    }
   ],
   "source": [
    "# Check if GPU is available\n",
    "import torch\n",
    "\n",
    "device = torch.device(\"cuda\" if torch.cuda.is_available() else \"cpu\")\n",
    "print(f\"Using device: {device}\")"
   ]
  },
  {
   "cell_type": "code",
   "execution_count": 2,
   "metadata": {},
   "outputs": [],
   "source": [
    "import pandas as pd\n",
    "\n",
    "train_df = pd.read_csv(\"./Recipes_Training.csv\", delimiter=\";\")\n",
    "test_df = pd.read_csv(\"./Recipes_Test.csv\", delimiter=\";\")"
   ]
  },
  {
   "cell_type": "markdown",
   "metadata": {},
   "source": [
    "## 1. Load pre-trained model"
   ]
  },
  {
   "cell_type": "code",
   "execution_count": 3,
   "metadata": {},
   "outputs": [
    {
     "name": "stderr",
     "output_type": "stream",
     "text": [
      "/home/Harman/gpu-env/lib/python3.11/site-packages/tqdm/auto.py:21: TqdmWarning: IProgress not found. Please update jupyter and ipywidgets. See https://ipywidgets.readthedocs.io/en/stable/user_install.html\n",
      "  from .autonotebook import tqdm as notebook_tqdm\n"
     ]
    }
   ],
   "source": [
    "from transformers import BertTokenizer\n",
    "\n",
    "tokenizer = BertTokenizer.from_pretrained(\"bert-base-uncased\")"
   ]
  },
  {
   "cell_type": "markdown",
   "metadata": {},
   "source": [
    "## 2. Dataset preprocessing"
   ]
  },
  {
   "cell_type": "code",
   "execution_count": 4,
   "metadata": {},
   "outputs": [],
   "source": [
    "from sklearn.preprocessing import LabelEncoder"
   ]
  },
  {
   "cell_type": "code",
   "execution_count": 5,
   "metadata": {},
   "outputs": [
    {
     "data": {
      "text/plain": [
       "array(['cajun_creole', 'chinese', 'french', 'indian', 'italian',\n",
       "       'mexican', 'southern_us', 'thai'], dtype=object)"
      ]
     },
     "execution_count": 5,
     "metadata": {},
     "output_type": "execute_result"
    }
   ],
   "source": [
    "# Convert the list of ingredients to a string for each row\n",
    "train_df[\"ingredients_str\"] = train_df[\"ingredients\"].apply(lambda x: \" \".join(eval(x)))\n",
    "test_df[\"ingredients_str\"] = test_df[\"ingredients\"].apply(lambda x: \" \".join(eval(x)))\n",
    "\n",
    "# Encode the cuisine label using LabelEncoder\n",
    "label_encoder = LabelEncoder()\n",
    "train_df[\"label\"] = label_encoder.fit_transform(train_df[\"cuisine\"])\n",
    "test_df[\"label\"] = label_encoder.transform(test_df[\"cuisine\"])\n",
    "\n",
    "# Check the label encoding\n",
    "label_encoder.classes_"
   ]
  },
  {
   "cell_type": "markdown",
   "metadata": {},
   "source": [
    "## 3. Dataset preparing"
   ]
  },
  {
   "cell_type": "code",
   "execution_count": 6,
   "metadata": {},
   "outputs": [],
   "source": [
    "import torch\n",
    "from torch.utils.data import Dataset, DataLoader"
   ]
  },
  {
   "cell_type": "code",
   "execution_count": 7,
   "metadata": {},
   "outputs": [],
   "source": [
    "class CuisineDataset(Dataset):\n",
    "\tdef __init__(self, df, tokenizer, max_len):\n",
    "\t\tself.ingredients = df[\"ingredients_str\"].values\n",
    "\t\tself.labels = df[\"label\"].values\n",
    "\t\tself.tokenizer = tokenizer\n",
    "\t\tself.max_len = max_len\n",
    "\t\n",
    "\tdef __len__(self):\n",
    "\t\treturn len(self.ingredients)\n",
    "\t\n",
    "\tdef __getitem__(self, idx):\n",
    "\t\tingredient = self.ingredients[idx]\n",
    "\t\tlabel = self.labels[idx]\n",
    "\t\t\n",
    "\t\tencoding = self.tokenizer.encode_plus(\n",
    "\t\t\tingredient,\n",
    "\t\t\ttruncation=True,\n",
    "\t\t\tadd_special_tokens=True,\n",
    "\t\t\tmax_length=self.max_len,\n",
    "\t\t\treturn_token_type_ids=False,\n",
    "\t\t\tpadding=\"max_length\",\n",
    "\t\t\treturn_attention_mask=True,\n",
    "\t\t\treturn_tensors=\"pt\",\n",
    "\t\t)\n",
    "\t\t\n",
    "\t\treturn {\n",
    "\t\t\t\"input_ids\": encoding[\"input_ids\"].flatten(),\n",
    "\t\t\t\"attention_mask\": encoding[\"attention_mask\"].flatten(),\n",
    "\t\t\t\"label\": torch.tensor(label, dtype=torch.long)\n",
    "\t\t}\n",
    "\n",
    "MAX_LEN = 128\n",
    "BATCH_SIZE = 16\n",
    "\n",
    "# Create the datasets\n",
    "train_dataset = CuisineDataset(train_df, tokenizer, MAX_LEN)\n",
    "test_dataset = CuisineDataset(test_df, tokenizer, MAX_LEN)\n",
    "\n",
    "# Create the dataloaders\n",
    "train_dataloader = DataLoader(train_dataset, batch_size=BATCH_SIZE, shuffle=True)\n",
    "test_dataloader = DataLoader(test_dataset, batch_size=BATCH_SIZE, shuffle=False)"
   ]
  },
  {
   "cell_type": "markdown",
   "metadata": {},
   "source": [
    "## 4. Fine-tune a Pre-trained Transformer Model"
   ]
  },
  {
   "cell_type": "code",
   "execution_count": 8,
   "metadata": {},
   "outputs": [],
   "source": [
    "from transformers import RobertaForSequenceClassification, AdamW\n",
    "from torch.optim import Adam\n",
    "from torch.nn import CrossEntropyLoss\n",
    "from sklearn.metrics import accuracy_score"
   ]
  },
  {
   "cell_type": "code",
   "execution_count": 9,
   "metadata": {},
   "outputs": [
    {
     "name": "stderr",
     "output_type": "stream",
     "text": [
      "Some weights of RobertaForSequenceClassification were not initialized from the model checkpoint at roberta-base and are newly initialized: ['classifier.dense.bias', 'classifier.dense.weight', 'classifier.out_proj.bias', 'classifier.out_proj.weight']\n",
      "You should probably TRAIN this model on a down-stream task to be able to use it for predictions and inference.\n"
     ]
    }
   ],
   "source": [
    "model = RobertaForSequenceClassification.from_pretrained(\"roberta-base\", num_labels=len(label_encoder.classes_))"
   ]
  },
  {
   "cell_type": "code",
   "execution_count": 10,
   "metadata": {},
   "outputs": [
    {
     "name": "stdout",
     "output_type": "stream",
     "text": [
      "Using device: cuda\n"
     ]
    }
   ],
   "source": [
    "# Move the model to the GPU\n",
    "device = torch.device(\"cuda\" if torch.cuda.is_available() else \"cpu\")\n",
    "print(f\"Using device: {device}\")\n",
    "\n",
    "model = model.to(device)"
   ]
  },
  {
   "cell_type": "code",
   "execution_count": 11,
   "metadata": {},
   "outputs": [
    {
     "name": "stderr",
     "output_type": "stream",
     "text": [
      "/home/Harman/gpu-env/lib/python3.11/site-packages/transformers/optimization.py:591: FutureWarning: This implementation of AdamW is deprecated and will be removed in a future version. Use the PyTorch implementation torch.optim.AdamW instead, or set `no_deprecation_warning=True` to disable this warning\n",
      "  warnings.warn(\n"
     ]
    }
   ],
   "source": [
    "# Set up the optimizer and loss function\n",
    "optimizer = AdamW(model.parameters(), lr=1e-5)\n",
    "loss_fn = CrossEntropyLoss().to(device)"
   ]
  },
  {
   "cell_type": "markdown",
   "metadata": {},
   "source": [
    "## 5. Train the Model"
   ]
  },
  {
   "cell_type": "code",
   "execution_count": 12,
   "metadata": {},
   "outputs": [
    {
     "name": "stdout",
     "output_type": "stream",
     "text": [
      "\n",
      "Epoch 1/3\n",
      "Batch 8000/8000\n",
      "Epoch 1/3, Training Loss: 1.3070824217200279, Training Accuracy: 0.52425\n",
      "\n",
      "Epoch 2/3\n",
      "Batch 8000/8000\n",
      "Epoch 2/3, Training Loss: 0.7407156108915806, Training Accuracy: 0.7445\n",
      "\n",
      "Epoch 3/3\n",
      "Batch 8000/8000\n",
      "Epoch 3/3, Training Loss: 0.6126032767742873, Training Accuracy: 0.789625\n"
     ]
    }
   ],
   "source": [
    "import sys\n",
    "\n",
    "def train_epoch(model, data_loader, loss_fn, optimizer, device):\n",
    "\tmodel.train()\n",
    "\ttotal_loss = 0\n",
    "\tcorrect_predictions = 0\n",
    "\n",
    "\ttotal_steps = len(data_loader)\n",
    "\tdataset_size = len(data_loader.dataset)\n",
    "\n",
    "\tfor batch_idx, batch in enumerate(data_loader):\n",
    "\t\t\n",
    "\t\t# Calculate current sample index\n",
    "\t\tcurrent_sample = batch_idx * data_loader.batch_size + len(batch[\"input_ids\"])\n",
    "\n",
    "\t\t# Calculate the progress\n",
    "\t\tsys.stdout.write(f'\\rBatch {current_sample}/{dataset_size}')\n",
    "\t\tsys.stdout.flush()\n",
    "\n",
    "\n",
    "\t\tinput_ids = batch['input_ids'].to(device)\n",
    "\t\tattention_mask = batch['attention_mask'].to(device)\n",
    "\t\tlabels = batch['label'].to(device)\n",
    "\n",
    "\t\t# Zero the gradients\n",
    "\t\toptimizer.zero_grad()\n",
    "\n",
    "\t\t# Forward pass\n",
    "\t\toutputs = model(input_ids=input_ids, attention_mask=attention_mask, labels=labels)\n",
    "\t\tloss = outputs.loss\n",
    "\t\tlogits = outputs.logits\n",
    "\n",
    "\t\t# Backward pass and optimization\n",
    "\t\tloss.backward()\n",
    "\t\toptimizer.step()\n",
    "\t\t\n",
    "\t\ttotal_loss += loss.item()\n",
    "\n",
    "\t\t# Calculate accuracy\n",
    "\t\t_, preds = torch.max(logits, dim=1)\n",
    "\t\tcorrect_predictions += torch.sum(preds == labels)\n",
    "\n",
    "\treturn correct_predictions.double() / len(data_loader.dataset), total_loss / len(data_loader)\n",
    "\n",
    "EPOCHS = 3\n",
    "for epoch in range(EPOCHS):\n",
    "\tprint(f'\\nEpoch {epoch+1}/{EPOCHS}')\n",
    "\ttrain_acc, train_loss = train_epoch(model, train_dataloader, loss_fn, optimizer, device)\n",
    "\tprint(f'\\nEpoch {epoch+1}/{EPOCHS}, Training Loss: {train_loss}, Training Accuracy: {train_acc}')"
   ]
  },
  {
   "cell_type": "markdown",
   "metadata": {},
   "source": [
    "## 6. Evaluation"
   ]
  },
  {
   "cell_type": "code",
   "execution_count": 13,
   "metadata": {},
   "outputs": [
    {
     "name": "stdout",
     "output_type": "stream",
     "text": [
      "Test Accuracy: 0.850, Test Loss: 0.451, Test F1 Score: 0.850\n"
     ]
    }
   ],
   "source": [
    "from sklearn.metrics import accuracy_score, f1_score\n",
    "\n",
    "\n",
    "def eval_model(model, data_loader, loss_fn, device):\n",
    "\tmodel.eval()\n",
    "\tcorrect_predictions = 0\n",
    "\ttotal_loss = 0\n",
    "\n",
    "\tall_preds = []\n",
    "\tall_labels = []\n",
    "\n",
    "\twith torch.no_grad():\n",
    "\t\tfor batch in data_loader:\n",
    "\t\t\tinput_ids = batch['input_ids'].to(device)\n",
    "\t\t\tattention_mask = batch['attention_mask'].to(device)\n",
    "\t\t\tlabels = batch['label'].to(device)\n",
    "\n",
    "\t\t\toutputs = model(input_ids=input_ids, attention_mask=attention_mask, labels=labels)\n",
    "\t\t\tloss = outputs.loss\n",
    "\t\t\tlogits = outputs.logits\n",
    "\n",
    "\t\t\ttotal_loss += loss.item()\n",
    "\n",
    "\t\t\t_, preds = torch.max(logits, dim=1)\n",
    "\t\t\tcorrect_predictions += torch.sum(preds == labels)\n",
    "\n",
    "\t\t\t# Store predictions and labels for F1 score calculation\n",
    "\t\t\tall_preds.extend(preds.cpu().numpy())\n",
    "\t\t\tall_labels.extend(labels.cpu().numpy())\n",
    "\t\t\n",
    "\t# Calculate accuracy\n",
    "\taccuracy = correct_predictions.double() / len(data_loader.dataset)\n",
    "\n",
    "\t# Calculate F1 score\n",
    "\tf1 = f1_score(all_labels, all_preds, average='weighted')\n",
    "\n",
    "\treturn accuracy, total_loss / len(data_loader), f1\n",
    "\n",
    "\n",
    "test_acc, test_loss, test_f1 = eval_model(model, test_dataloader, loss_fn, device)\n",
    "print(f'Test Accuracy: {test_acc:.3f}, Test Loss: {test_loss:.3f}, Test F1 Score: {test_f1:.3f}')"
   ]
  }
 ],
 "metadata": {
  "kernelspec": {
   "display_name": "gpu-env",
   "language": "python",
   "name": "python3"
  },
  "language_info": {
   "codemirror_mode": {
    "name": "ipython",
    "version": 3
   },
   "file_extension": ".py",
   "mimetype": "text/x-python",
   "name": "python",
   "nbconvert_exporter": "python",
   "pygments_lexer": "ipython3",
   "version": "3.11.2"
  }
 },
 "nbformat": 4,
 "nbformat_minor": 2
}
