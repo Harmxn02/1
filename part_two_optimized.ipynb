{
  "cells": [
    {
      "cell_type": "code",
      "source": [
        "\n",
        "import os\n",
        "\n",
        "from google.colab import drive\n",
        "drive.mount('/content/drive')\n",
        "os.chdir('/content/drive/MyDrive/School/Howest/TI-AI/Sem3/TrendingTopics/ex1')\n"
      ],
      "metadata": {
        "colab": {
          "base_uri": "https://localhost:8080/"
        },
        "id": "2haH_-MUdlnF",
        "outputId": "99b5057b-4288-4706-b28f-aedc6923ac83"
      },
      "execution_count": 32,
      "outputs": [
        {
          "output_type": "stream",
          "name": "stdout",
          "text": [
            "Drive already mounted at /content/drive; to attempt to forcibly remount, call drive.mount(\"/content/drive\", force_remount=True).\n"
          ]
        }
      ]
    },
    {
      "cell_type": "markdown",
      "metadata": {
        "id": "w0G56cdwdQZM"
      },
      "source": [
        "# Trending Topics in AI\n",
        "Assignment 1: Apply and fine-tune transformer models"
      ]
    },
    {
      "cell_type": "code",
      "execution_count": 33,
      "metadata": {
        "colab": {
          "base_uri": "https://localhost:8080/"
        },
        "id": "mKt7y_xQdQZN",
        "outputId": "ba337b5b-d184-44e3-b8f7-c6187296fcfc"
      },
      "outputs": [
        {
          "output_type": "stream",
          "name": "stdout",
          "text": [
            "Using device: cuda\n"
          ]
        }
      ],
      "source": [
        "# Check if GPU is available\n",
        "import torch\n",
        "\n",
        "device = torch.device(\"cuda\" if torch.cuda.is_available() else \"cpu\")\n",
        "print(f\"Using device: {device}\")"
      ]
    },
    {
      "cell_type": "code",
      "execution_count": 34,
      "metadata": {
        "id": "wu0rmkjrdQZP"
      },
      "outputs": [],
      "source": [
        "import pandas as pd\n",
        "\n",
        "train_df = pd.read_csv(\"./Recipes_Training.csv\", delimiter=\";\")\n",
        "test_df = pd.read_csv(\"./Recipes_Test.csv\", delimiter=\";\")"
      ]
    },
    {
      "cell_type": "markdown",
      "metadata": {
        "id": "ADG_E2oudQZP"
      },
      "source": [
        "## 1. Load pre-trained model"
      ]
    },
    {
      "cell_type": "code",
      "source": [
        "train_df"
      ],
      "metadata": {
        "colab": {
          "base_uri": "https://localhost:8080/",
          "height": 423
        },
        "id": "uHu9MI14eso-",
        "outputId": "a064c8a1-59b3-44a9-bf20-edcee08209a2"
      },
      "execution_count": 35,
      "outputs": [
        {
          "output_type": "execute_result",
          "data": {
            "text/plain": [
              "         id       cuisine                                        ingredients\n",
              "0     25693   southern_us  ['plain flour', 'ground pepper', 'salt', 'toma...\n",
              "1     22213        indian        ['water', 'vegetable oil', 'wheat', 'salt']\n",
              "2     13162        indian  ['black pepper', 'shallots', 'cornflour', 'cay...\n",
              "3      3735       italian  ['sugar', 'pistachio nuts', 'white almond bark...\n",
              "4     16903       mexican  ['olive oil', 'purple onion', 'fresh pineapple...\n",
              "...     ...           ...                                                ...\n",
              "7995  33556  cajun_creole  ['andouille sausage', 'water', 'cajun seasonin...\n",
              "7996  14725  cajun_creole  ['black pepper', 'grating cheese', 'all-purpos...\n",
              "7997   7895  cajun_creole  ['fettucine', 'cajun seasoning', 'salt', 'pepp...\n",
              "7998  23661  cajun_creole  ['chicken broth', 'crushed tomatoes', 'worcest...\n",
              "7999   9463  cajun_creole  ['dried thyme', 'green onions', 'raisins', 'ga...\n",
              "\n",
              "[8000 rows x 3 columns]"
            ],
            "text/html": [
              "\n",
              "  <div id=\"df-1e708337-622a-445e-b7f2-99308212e3a8\" class=\"colab-df-container\">\n",
              "    <div>\n",
              "<style scoped>\n",
              "    .dataframe tbody tr th:only-of-type {\n",
              "        vertical-align: middle;\n",
              "    }\n",
              "\n",
              "    .dataframe tbody tr th {\n",
              "        vertical-align: top;\n",
              "    }\n",
              "\n",
              "    .dataframe thead th {\n",
              "        text-align: right;\n",
              "    }\n",
              "</style>\n",
              "<table border=\"1\" class=\"dataframe\">\n",
              "  <thead>\n",
              "    <tr style=\"text-align: right;\">\n",
              "      <th></th>\n",
              "      <th>id</th>\n",
              "      <th>cuisine</th>\n",
              "      <th>ingredients</th>\n",
              "    </tr>\n",
              "  </thead>\n",
              "  <tbody>\n",
              "    <tr>\n",
              "      <th>0</th>\n",
              "      <td>25693</td>\n",
              "      <td>southern_us</td>\n",
              "      <td>['plain flour', 'ground pepper', 'salt', 'toma...</td>\n",
              "    </tr>\n",
              "    <tr>\n",
              "      <th>1</th>\n",
              "      <td>22213</td>\n",
              "      <td>indian</td>\n",
              "      <td>['water', 'vegetable oil', 'wheat', 'salt']</td>\n",
              "    </tr>\n",
              "    <tr>\n",
              "      <th>2</th>\n",
              "      <td>13162</td>\n",
              "      <td>indian</td>\n",
              "      <td>['black pepper', 'shallots', 'cornflour', 'cay...</td>\n",
              "    </tr>\n",
              "    <tr>\n",
              "      <th>3</th>\n",
              "      <td>3735</td>\n",
              "      <td>italian</td>\n",
              "      <td>['sugar', 'pistachio nuts', 'white almond bark...</td>\n",
              "    </tr>\n",
              "    <tr>\n",
              "      <th>4</th>\n",
              "      <td>16903</td>\n",
              "      <td>mexican</td>\n",
              "      <td>['olive oil', 'purple onion', 'fresh pineapple...</td>\n",
              "    </tr>\n",
              "    <tr>\n",
              "      <th>...</th>\n",
              "      <td>...</td>\n",
              "      <td>...</td>\n",
              "      <td>...</td>\n",
              "    </tr>\n",
              "    <tr>\n",
              "      <th>7995</th>\n",
              "      <td>33556</td>\n",
              "      <td>cajun_creole</td>\n",
              "      <td>['andouille sausage', 'water', 'cajun seasonin...</td>\n",
              "    </tr>\n",
              "    <tr>\n",
              "      <th>7996</th>\n",
              "      <td>14725</td>\n",
              "      <td>cajun_creole</td>\n",
              "      <td>['black pepper', 'grating cheese', 'all-purpos...</td>\n",
              "    </tr>\n",
              "    <tr>\n",
              "      <th>7997</th>\n",
              "      <td>7895</td>\n",
              "      <td>cajun_creole</td>\n",
              "      <td>['fettucine', 'cajun seasoning', 'salt', 'pepp...</td>\n",
              "    </tr>\n",
              "    <tr>\n",
              "      <th>7998</th>\n",
              "      <td>23661</td>\n",
              "      <td>cajun_creole</td>\n",
              "      <td>['chicken broth', 'crushed tomatoes', 'worcest...</td>\n",
              "    </tr>\n",
              "    <tr>\n",
              "      <th>7999</th>\n",
              "      <td>9463</td>\n",
              "      <td>cajun_creole</td>\n",
              "      <td>['dried thyme', 'green onions', 'raisins', 'ga...</td>\n",
              "    </tr>\n",
              "  </tbody>\n",
              "</table>\n",
              "<p>8000 rows × 3 columns</p>\n",
              "</div>\n",
              "    <div class=\"colab-df-buttons\">\n",
              "\n",
              "  <div class=\"colab-df-container\">\n",
              "    <button class=\"colab-df-convert\" onclick=\"convertToInteractive('df-1e708337-622a-445e-b7f2-99308212e3a8')\"\n",
              "            title=\"Convert this dataframe to an interactive table.\"\n",
              "            style=\"display:none;\">\n",
              "\n",
              "  <svg xmlns=\"http://www.w3.org/2000/svg\" height=\"24px\" viewBox=\"0 -960 960 960\">\n",
              "    <path d=\"M120-120v-720h720v720H120Zm60-500h600v-160H180v160Zm220 220h160v-160H400v160Zm0 220h160v-160H400v160ZM180-400h160v-160H180v160Zm440 0h160v-160H620v160ZM180-180h160v-160H180v160Zm440 0h160v-160H620v160Z\"/>\n",
              "  </svg>\n",
              "    </button>\n",
              "\n",
              "  <style>\n",
              "    .colab-df-container {\n",
              "      display:flex;\n",
              "      gap: 12px;\n",
              "    }\n",
              "\n",
              "    .colab-df-convert {\n",
              "      background-color: #E8F0FE;\n",
              "      border: none;\n",
              "      border-radius: 50%;\n",
              "      cursor: pointer;\n",
              "      display: none;\n",
              "      fill: #1967D2;\n",
              "      height: 32px;\n",
              "      padding: 0 0 0 0;\n",
              "      width: 32px;\n",
              "    }\n",
              "\n",
              "    .colab-df-convert:hover {\n",
              "      background-color: #E2EBFA;\n",
              "      box-shadow: 0px 1px 2px rgba(60, 64, 67, 0.3), 0px 1px 3px 1px rgba(60, 64, 67, 0.15);\n",
              "      fill: #174EA6;\n",
              "    }\n",
              "\n",
              "    .colab-df-buttons div {\n",
              "      margin-bottom: 4px;\n",
              "    }\n",
              "\n",
              "    [theme=dark] .colab-df-convert {\n",
              "      background-color: #3B4455;\n",
              "      fill: #D2E3FC;\n",
              "    }\n",
              "\n",
              "    [theme=dark] .colab-df-convert:hover {\n",
              "      background-color: #434B5C;\n",
              "      box-shadow: 0px 1px 3px 1px rgba(0, 0, 0, 0.15);\n",
              "      filter: drop-shadow(0px 1px 2px rgba(0, 0, 0, 0.3));\n",
              "      fill: #FFFFFF;\n",
              "    }\n",
              "  </style>\n",
              "\n",
              "    <script>\n",
              "      const buttonEl =\n",
              "        document.querySelector('#df-1e708337-622a-445e-b7f2-99308212e3a8 button.colab-df-convert');\n",
              "      buttonEl.style.display =\n",
              "        google.colab.kernel.accessAllowed ? 'block' : 'none';\n",
              "\n",
              "      async function convertToInteractive(key) {\n",
              "        const element = document.querySelector('#df-1e708337-622a-445e-b7f2-99308212e3a8');\n",
              "        const dataTable =\n",
              "          await google.colab.kernel.invokeFunction('convertToInteractive',\n",
              "                                                    [key], {});\n",
              "        if (!dataTable) return;\n",
              "\n",
              "        const docLinkHtml = 'Like what you see? Visit the ' +\n",
              "          '<a target=\"_blank\" href=https://colab.research.google.com/notebooks/data_table.ipynb>data table notebook</a>'\n",
              "          + ' to learn more about interactive tables.';\n",
              "        element.innerHTML = '';\n",
              "        dataTable['output_type'] = 'display_data';\n",
              "        await google.colab.output.renderOutput(dataTable, element);\n",
              "        const docLink = document.createElement('div');\n",
              "        docLink.innerHTML = docLinkHtml;\n",
              "        element.appendChild(docLink);\n",
              "      }\n",
              "    </script>\n",
              "  </div>\n",
              "\n",
              "\n",
              "<div id=\"df-f06e0472-9abf-40da-b6f1-59b057931f0b\">\n",
              "  <button class=\"colab-df-quickchart\" onclick=\"quickchart('df-f06e0472-9abf-40da-b6f1-59b057931f0b')\"\n",
              "            title=\"Suggest charts\"\n",
              "            style=\"display:none;\">\n",
              "\n",
              "<svg xmlns=\"http://www.w3.org/2000/svg\" height=\"24px\"viewBox=\"0 0 24 24\"\n",
              "     width=\"24px\">\n",
              "    <g>\n",
              "        <path d=\"M19 3H5c-1.1 0-2 .9-2 2v14c0 1.1.9 2 2 2h14c1.1 0 2-.9 2-2V5c0-1.1-.9-2-2-2zM9 17H7v-7h2v7zm4 0h-2V7h2v10zm4 0h-2v-4h2v4z\"/>\n",
              "    </g>\n",
              "</svg>\n",
              "  </button>\n",
              "\n",
              "<style>\n",
              "  .colab-df-quickchart {\n",
              "      --bg-color: #E8F0FE;\n",
              "      --fill-color: #1967D2;\n",
              "      --hover-bg-color: #E2EBFA;\n",
              "      --hover-fill-color: #174EA6;\n",
              "      --disabled-fill-color: #AAA;\n",
              "      --disabled-bg-color: #DDD;\n",
              "  }\n",
              "\n",
              "  [theme=dark] .colab-df-quickchart {\n",
              "      --bg-color: #3B4455;\n",
              "      --fill-color: #D2E3FC;\n",
              "      --hover-bg-color: #434B5C;\n",
              "      --hover-fill-color: #FFFFFF;\n",
              "      --disabled-bg-color: #3B4455;\n",
              "      --disabled-fill-color: #666;\n",
              "  }\n",
              "\n",
              "  .colab-df-quickchart {\n",
              "    background-color: var(--bg-color);\n",
              "    border: none;\n",
              "    border-radius: 50%;\n",
              "    cursor: pointer;\n",
              "    display: none;\n",
              "    fill: var(--fill-color);\n",
              "    height: 32px;\n",
              "    padding: 0;\n",
              "    width: 32px;\n",
              "  }\n",
              "\n",
              "  .colab-df-quickchart:hover {\n",
              "    background-color: var(--hover-bg-color);\n",
              "    box-shadow: 0 1px 2px rgba(60, 64, 67, 0.3), 0 1px 3px 1px rgba(60, 64, 67, 0.15);\n",
              "    fill: var(--button-hover-fill-color);\n",
              "  }\n",
              "\n",
              "  .colab-df-quickchart-complete:disabled,\n",
              "  .colab-df-quickchart-complete:disabled:hover {\n",
              "    background-color: var(--disabled-bg-color);\n",
              "    fill: var(--disabled-fill-color);\n",
              "    box-shadow: none;\n",
              "  }\n",
              "\n",
              "  .colab-df-spinner {\n",
              "    border: 2px solid var(--fill-color);\n",
              "    border-color: transparent;\n",
              "    border-bottom-color: var(--fill-color);\n",
              "    animation:\n",
              "      spin 1s steps(1) infinite;\n",
              "  }\n",
              "\n",
              "  @keyframes spin {\n",
              "    0% {\n",
              "      border-color: transparent;\n",
              "      border-bottom-color: var(--fill-color);\n",
              "      border-left-color: var(--fill-color);\n",
              "    }\n",
              "    20% {\n",
              "      border-color: transparent;\n",
              "      border-left-color: var(--fill-color);\n",
              "      border-top-color: var(--fill-color);\n",
              "    }\n",
              "    30% {\n",
              "      border-color: transparent;\n",
              "      border-left-color: var(--fill-color);\n",
              "      border-top-color: var(--fill-color);\n",
              "      border-right-color: var(--fill-color);\n",
              "    }\n",
              "    40% {\n",
              "      border-color: transparent;\n",
              "      border-right-color: var(--fill-color);\n",
              "      border-top-color: var(--fill-color);\n",
              "    }\n",
              "    60% {\n",
              "      border-color: transparent;\n",
              "      border-right-color: var(--fill-color);\n",
              "    }\n",
              "    80% {\n",
              "      border-color: transparent;\n",
              "      border-right-color: var(--fill-color);\n",
              "      border-bottom-color: var(--fill-color);\n",
              "    }\n",
              "    90% {\n",
              "      border-color: transparent;\n",
              "      border-bottom-color: var(--fill-color);\n",
              "    }\n",
              "  }\n",
              "</style>\n",
              "\n",
              "  <script>\n",
              "    async function quickchart(key) {\n",
              "      const quickchartButtonEl =\n",
              "        document.querySelector('#' + key + ' button');\n",
              "      quickchartButtonEl.disabled = true;  // To prevent multiple clicks.\n",
              "      quickchartButtonEl.classList.add('colab-df-spinner');\n",
              "      try {\n",
              "        const charts = await google.colab.kernel.invokeFunction(\n",
              "            'suggestCharts', [key], {});\n",
              "      } catch (error) {\n",
              "        console.error('Error during call to suggestCharts:', error);\n",
              "      }\n",
              "      quickchartButtonEl.classList.remove('colab-df-spinner');\n",
              "      quickchartButtonEl.classList.add('colab-df-quickchart-complete');\n",
              "    }\n",
              "    (() => {\n",
              "      let quickchartButtonEl =\n",
              "        document.querySelector('#df-f06e0472-9abf-40da-b6f1-59b057931f0b button');\n",
              "      quickchartButtonEl.style.display =\n",
              "        google.colab.kernel.accessAllowed ? 'block' : 'none';\n",
              "    })();\n",
              "  </script>\n",
              "</div>\n",
              "\n",
              "  <div id=\"id_eedc6e97-ad97-4f97-be97-815af9e3aa77\">\n",
              "    <style>\n",
              "      .colab-df-generate {\n",
              "        background-color: #E8F0FE;\n",
              "        border: none;\n",
              "        border-radius: 50%;\n",
              "        cursor: pointer;\n",
              "        display: none;\n",
              "        fill: #1967D2;\n",
              "        height: 32px;\n",
              "        padding: 0 0 0 0;\n",
              "        width: 32px;\n",
              "      }\n",
              "\n",
              "      .colab-df-generate:hover {\n",
              "        background-color: #E2EBFA;\n",
              "        box-shadow: 0px 1px 2px rgba(60, 64, 67, 0.3), 0px 1px 3px 1px rgba(60, 64, 67, 0.15);\n",
              "        fill: #174EA6;\n",
              "      }\n",
              "\n",
              "      [theme=dark] .colab-df-generate {\n",
              "        background-color: #3B4455;\n",
              "        fill: #D2E3FC;\n",
              "      }\n",
              "\n",
              "      [theme=dark] .colab-df-generate:hover {\n",
              "        background-color: #434B5C;\n",
              "        box-shadow: 0px 1px 3px 1px rgba(0, 0, 0, 0.15);\n",
              "        filter: drop-shadow(0px 1px 2px rgba(0, 0, 0, 0.3));\n",
              "        fill: #FFFFFF;\n",
              "      }\n",
              "    </style>\n",
              "    <button class=\"colab-df-generate\" onclick=\"generateWithVariable('train_df')\"\n",
              "            title=\"Generate code using this dataframe.\"\n",
              "            style=\"display:none;\">\n",
              "\n",
              "  <svg xmlns=\"http://www.w3.org/2000/svg\" height=\"24px\"viewBox=\"0 0 24 24\"\n",
              "       width=\"24px\">\n",
              "    <path d=\"M7,19H8.4L18.45,9,17,7.55,7,17.6ZM5,21V16.75L18.45,3.32a2,2,0,0,1,2.83,0l1.4,1.43a1.91,1.91,0,0,1,.58,1.4,1.91,1.91,0,0,1-.58,1.4L9.25,21ZM18.45,9,17,7.55Zm-12,3A5.31,5.31,0,0,0,4.9,8.1,5.31,5.31,0,0,0,1,6.5,5.31,5.31,0,0,0,4.9,4.9,5.31,5.31,0,0,0,6.5,1,5.31,5.31,0,0,0,8.1,4.9,5.31,5.31,0,0,0,12,6.5,5.46,5.46,0,0,0,6.5,12Z\"/>\n",
              "  </svg>\n",
              "    </button>\n",
              "    <script>\n",
              "      (() => {\n",
              "      const buttonEl =\n",
              "        document.querySelector('#id_eedc6e97-ad97-4f97-be97-815af9e3aa77 button.colab-df-generate');\n",
              "      buttonEl.style.display =\n",
              "        google.colab.kernel.accessAllowed ? 'block' : 'none';\n",
              "\n",
              "      buttonEl.onclick = () => {\n",
              "        google.colab.notebook.generateWithVariable('train_df');\n",
              "      }\n",
              "      })();\n",
              "    </script>\n",
              "  </div>\n",
              "\n",
              "    </div>\n",
              "  </div>\n"
            ],
            "application/vnd.google.colaboratory.intrinsic+json": {
              "type": "dataframe",
              "variable_name": "train_df",
              "summary": "{\n  \"name\": \"train_df\",\n  \"rows\": 8000,\n  \"fields\": [\n    {\n      \"column\": \"id\",\n      \"properties\": {\n        \"dtype\": \"number\",\n        \"std\": 14217,\n        \"min\": 8,\n        \"max\": 49707,\n        \"num_unique_values\": 8000,\n        \"samples\": [\n          38633,\n          32621,\n          29562\n        ],\n        \"semantic_type\": \"\",\n        \"description\": \"\"\n      }\n    },\n    {\n      \"column\": \"cuisine\",\n      \"properties\": {\n        \"dtype\": \"category\",\n        \"num_unique_values\": 8,\n        \"samples\": [\n          \"indian\",\n          \"thai\",\n          \"southern_us\"\n        ],\n        \"semantic_type\": \"\",\n        \"description\": \"\"\n      }\n    },\n    {\n      \"column\": \"ingredients\",\n      \"properties\": {\n        \"dtype\": \"string\",\n        \"num_unique_values\": 7992,\n        \"samples\": [\n          \"['soy sauce', 'Sriracha', 'honey', 'hot water', 'lime', 'creamy peanut butter', 'pepper flakes', 'peanuts']\",\n          \"['baby lima beans', 'boneless skinless chicken breasts', 'salt', 'coconut milk', 'curry powder', 'fat free reduced sodium chicken broth', 'yellow onion', 'potatoes', 'diced tomatoes', 'baby carrots', 'pepper', 'parsley', 'hot sauce', 'cumin']\",\n          \"['mustard', 'fryer chickens', 'freshly ground pepper', 'vegetable oil', 'salt', 'whole milk', 'fresh tarragon', 'buttermilk', 'all-purpose flour']\"\n        ],\n        \"semantic_type\": \"\",\n        \"description\": \"\"\n      }\n    }\n  ]\n}"
            }
          },
          "metadata": {},
          "execution_count": 35
        }
      ]
    },
    {
      "cell_type": "code",
      "execution_count": 36,
      "metadata": {
        "colab": {
          "base_uri": "https://localhost:8080/"
        },
        "id": "jsBUKZ8QdQZP",
        "outputId": "7a1d6e09-4240-4280-c8b8-9f4daaa89f5c"
      },
      "outputs": [
        {
          "output_type": "stream",
          "name": "stderr",
          "text": [
            "/usr/local/lib/python3.10/dist-packages/transformers/tokenization_utils_base.py:1601: FutureWarning: `clean_up_tokenization_spaces` was not set. It will be set to `True` by default. This behavior will be depracted in transformers v4.45, and will be then set to `False` by default. For more details check this issue: https://github.com/huggingface/transformers/issues/31884\n",
            "  warnings.warn(\n"
          ]
        }
      ],
      "source": [
        "\n",
        "from transformers import BertTokenizer\n",
        "\n",
        "tokenizer = BertTokenizer.from_pretrained(\"bert-base-uncased\")\n",
        "MAX_LEN = 128  # Truncate sequences to 128 tokens\n",
        "train_encodings = tokenizer(list(train_df['ingredients']), truncation=True, padding=True, max_length=MAX_LEN)\n",
        "test_encodings = tokenizer(list(test_df['ingredients']), truncation=True, padding=True, max_length=MAX_LEN)\n"
      ]
    },
    {
      "cell_type": "markdown",
      "metadata": {
        "id": "C2nr5nkIdQZQ"
      },
      "source": [
        "## 2. Dataset preprocessing"
      ]
    },
    {
      "cell_type": "code",
      "execution_count": 37,
      "metadata": {
        "id": "dvYVfY-1dQZQ"
      },
      "outputs": [],
      "source": [
        "from sklearn.preprocessing import LabelEncoder"
      ]
    },
    {
      "cell_type": "code",
      "execution_count": 38,
      "metadata": {
        "colab": {
          "base_uri": "https://localhost:8080/"
        },
        "id": "E-kvDc_gdQZR",
        "outputId": "5b1aa5e6-96b1-4f6c-f91a-8e24bec1feea"
      },
      "outputs": [
        {
          "output_type": "execute_result",
          "data": {
            "text/plain": [
              "array(['cajun_creole', 'chinese', 'french', 'indian', 'italian',\n",
              "       'mexican', 'southern_us', 'thai'], dtype=object)"
            ]
          },
          "metadata": {},
          "execution_count": 38
        }
      ],
      "source": [
        "# Convert the list of ingredients to a string for each row\n",
        "train_df[\"ingredients_str\"] = train_df[\"ingredients\"].apply(lambda x: \" \".join(eval(x)))\n",
        "test_df[\"ingredients_str\"] = test_df[\"ingredients\"].apply(lambda x: \" \".join(eval(x)))\n",
        "\n",
        "# Encode the cuisine label using LabelEncoder\n",
        "label_encoder = LabelEncoder()\n",
        "train_df[\"label\"] = label_encoder.fit_transform(train_df[\"cuisine\"])\n",
        "test_df[\"label\"] = label_encoder.transform(test_df[\"cuisine\"])\n",
        "\n",
        "# Check the label encoding\n",
        "label_encoder.classes_"
      ]
    },
    {
      "cell_type": "markdown",
      "metadata": {
        "id": "fFDOEQHPdQZR"
      },
      "source": [
        "## 3. Dataset preparing"
      ]
    },
    {
      "cell_type": "code",
      "execution_count": 39,
      "metadata": {
        "id": "g2iPrW3ndQZR"
      },
      "outputs": [],
      "source": [
        "import torch\n",
        "from torch.utils.data import Dataset, DataLoader"
      ]
    },
    {
      "cell_type": "code",
      "execution_count": 40,
      "metadata": {
        "id": "LlBLivKddQZR"
      },
      "outputs": [],
      "source": [
        "class CuisineDataset(Dataset):\n",
        "\tdef __init__(self, df, tokenizer, max_len):\n",
        "\t\tself.ingredients = df[\"ingredients_str\"].values\n",
        "\t\tself.labels = df[\"label\"].values\n",
        "\t\tself.tokenizer = tokenizer\n",
        "\t\tself.max_len = max_len\n",
        "\n",
        "\tdef __len__(self):\n",
        "\t\treturn len(self.ingredients)\n",
        "\n",
        "\tdef __getitem__(self, idx):\n",
        "\t\tingredient = self.ingredients[idx]\n",
        "\t\tlabel = self.labels[idx]\n",
        "\n",
        "\t\tencoding = self.tokenizer.encode_plus(\n",
        "\t\t\tingredient,\n",
        "\t\t\ttruncation=True,\n",
        "\t\t\tadd_special_tokens=True,\n",
        "\t\t\tmax_length=self.max_len,\n",
        "\t\t\treturn_token_type_ids=False,\n",
        "\t\t\tpadding=\"max_length\",\n",
        "\t\t\treturn_attention_mask=True,\n",
        "\t\t\treturn_tensors=\"pt\",\n",
        "\t\t)\n",
        "\n",
        "\t\treturn {\n",
        "\t\t\t\"input_ids\": encoding[\"input_ids\"].flatten(),\n",
        "\t\t\t\"attention_mask\": encoding[\"attention_mask\"].flatten(),\n",
        "\t\t\t\"label\": torch.tensor(label, dtype=torch.long)\n",
        "\t\t}\n",
        "\n",
        "MAX_LEN = 128\n",
        "BATCH_SIZE = 32\n",
        "\n",
        "# Create the datasets\n",
        "train_dataset = CuisineDataset(train_df, tokenizer, MAX_LEN)\n",
        "test_dataset = CuisineDataset(test_df, tokenizer, MAX_LEN)\n",
        "\n",
        "# Create the dataloaders\n",
        "train_dataloader = DataLoader(train_dataset, batch_size=BATCH_SIZE, shuffle=True)\n",
        "test_dataloader = DataLoader(test_dataset, batch_size=BATCH_SIZE, shuffle=False)"
      ]
    },
    {
      "cell_type": "markdown",
      "metadata": {
        "id": "8EznajIGdQZS"
      },
      "source": [
        "## 4. Fine-tune a Pre-trained Transformer Model"
      ]
    },
    {
      "cell_type": "code",
      "execution_count": 41,
      "metadata": {
        "id": "jOJUcxiQdQZS"
      },
      "outputs": [],
      "source": [
        "from transformers import BertForSequenceClassification, AdamW\n",
        "from torch.optim import Adam\n",
        "from torch.nn import CrossEntropyLoss\n",
        "from sklearn.metrics import accuracy_score"
      ]
    },
    {
      "cell_type": "code",
      "execution_count": 42,
      "metadata": {
        "colab": {
          "base_uri": "https://localhost:8080/"
        },
        "id": "zGLfrhQSdQZS",
        "outputId": "ba817d22-6ac2-4c03-dc56-4857555a051f"
      },
      "outputs": [
        {
          "output_type": "stream",
          "name": "stderr",
          "text": [
            "Some weights of BertForSequenceClassification were not initialized from the model checkpoint at bert-base-uncased and are newly initialized: ['classifier.bias', 'classifier.weight']\n",
            "You should probably TRAIN this model on a down-stream task to be able to use it for predictions and inference.\n"
          ]
        }
      ],
      "source": [
        "model = BertForSequenceClassification.from_pretrained(\"bert-base-uncased\", num_labels=len(label_encoder.classes_))"
      ]
    },
    {
      "cell_type": "code",
      "execution_count": 43,
      "metadata": {
        "colab": {
          "base_uri": "https://localhost:8080/"
        },
        "id": "hCMqZYwcdQZS",
        "outputId": "7db5566c-4e37-4d51-d6c7-2e4ec53d6af6"
      },
      "outputs": [
        {
          "output_type": "stream",
          "name": "stdout",
          "text": [
            "Using device: cuda\n"
          ]
        }
      ],
      "source": [
        "# Move the model to the GPU\n",
        "device = torch.device(\"cuda\" if torch.cuda.is_available() else \"cpu\")\n",
        "print(f\"Using device: {device}\")\n",
        "\n",
        "model = model.to(device)"
      ]
    },
    {
      "cell_type": "code",
      "execution_count": 44,
      "metadata": {
        "colab": {
          "base_uri": "https://localhost:8080/"
        },
        "id": "Ff4iEJypdQZS",
        "outputId": "236ded54-9501-4278-98fa-f836acfa77c8"
      },
      "outputs": [
        {
          "output_type": "stream",
          "name": "stderr",
          "text": [
            "/usr/local/lib/python3.10/dist-packages/transformers/optimization.py:591: FutureWarning: This implementation of AdamW is deprecated and will be removed in a future version. Use the PyTorch implementation torch.optim.AdamW instead, or set `no_deprecation_warning=True` to disable this warning\n",
            "  warnings.warn(\n"
          ]
        }
      ],
      "source": [
        "# Set up the optimizer and loss function\n",
        "optimizer = AdamW(model.parameters(), lr=1e-5)\n",
        "loss_fn = CrossEntropyLoss().to(device)"
      ]
    },
    {
      "cell_type": "code",
      "source": [
        "import torch.optim as optim\n",
        "from transformers import get_linear_schedule_with_warmup\n",
        "\n",
        "# Define the optimizer\n",
        "optimizer = optim.AdamW(model.parameters(), lr=1e-5)\n",
        "\n",
        "# Calculate total steps\n",
        "total_steps = len(train_dataloader) // gradient_accumulation_steps * num_epochs\n",
        "\n",
        "# Define the scheduler\n",
        "scheduler = get_linear_schedule_with_warmup(\n",
        "    optimizer,\n",
        "    num_warmup_steps=int(0.1 * total_steps),  # 10% of total steps for warm-up\n",
        "    num_training_steps=total_steps\n",
        ")\n"
      ],
      "metadata": {
        "id": "krCSInoXhuLU"
      },
      "execution_count": 45,
      "outputs": []
    },
    {
      "cell_type": "markdown",
      "metadata": {
        "id": "Lefnf8eVdQZT"
      },
      "source": [
        "## 5. Train the Model"
      ]
    },
    {
      "cell_type": "code",
      "execution_count": 46,
      "metadata": {
        "colab": {
          "base_uri": "https://localhost:8080/"
        },
        "id": "mGufWMKodQZT",
        "outputId": "a9b983bc-9681-4757-83e9-9f0b2e1aea44"
      },
      "outputs": [
        {
          "output_type": "stream",
          "name": "stderr",
          "text": [
            "<ipython-input-31-1192d496f893>:16: FutureWarning: `torch.cuda.amp.GradScaler(args...)` is deprecated. Please use `torch.amp.GradScaler('cuda', args...)` instead.\n",
            "  scaler = GradScaler()  # Mixed precision training\n",
            "<ipython-input-31-1192d496f893>:37: FutureWarning: `torch.cuda.amp.autocast(args...)` is deprecated. Please use `torch.amp.autocast('cuda', args...)` instead.\n",
            "  with autocast():\n",
            "<ipython-input-31-1192d496f893>:63: FutureWarning: `torch.cuda.amp.autocast(args...)` is deprecated. Please use `torch.amp.autocast('cuda', args...)` instead.\n",
            "  with autocast():\n"
          ]
        },
        {
          "output_type": "stream",
          "name": "stdout",
          "text": [
            "Epoch 1, Validation Loss: 1.0135126265268477\n",
            "Epoch 2, Validation Loss: 0.7867029583643353\n",
            "Epoch 3, Validation Loss: 0.7293267022995722\n"
          ]
        },
        {
          "output_type": "stream",
          "name": "stderr",
          "text": [
            "<ipython-input-46-1192d496f893>:16: FutureWarning: `torch.cuda.amp.GradScaler(args...)` is deprecated. Please use `torch.amp.GradScaler('cuda', args...)` instead.\n",
            "  scaler = GradScaler()  # Mixed precision training\n",
            "<ipython-input-46-1192d496f893>:37: FutureWarning: `torch.cuda.amp.autocast(args...)` is deprecated. Please use `torch.amp.autocast('cuda', args...)` instead.\n",
            "  with autocast():\n",
            "<ipython-input-46-1192d496f893>:63: FutureWarning: `torch.cuda.amp.autocast(args...)` is deprecated. Please use `torch.amp.autocast('cuda', args...)` instead.\n",
            "  with autocast():\n"
          ]
        },
        {
          "output_type": "stream",
          "name": "stdout",
          "text": [
            "Epoch 1, Validation Loss: 1.5787736196366569\n",
            "Epoch 2, Validation Loss: 1.1274391053214905\n",
            "Epoch 3, Validation Loss: 1.016219002859933\n"
          ]
        }
      ],
      "source": [
        "from torch.cuda.amp import autocast, GradScaler\n",
        "import torch.optim as optim\n",
        "from transformers import get_linear_schedule_with_warmup\n",
        "\n",
        "num_epochs = 3\n",
        "gradient_accumulation_steps = 4\n",
        "step = 0\n",
        "validation_dataloader = DataLoader(test_dataset, batch_size=BATCH_SIZE, shuffle=False);\n",
        "\n",
        "early_stopping = True\n",
        "patience = 2  # Number of epochs to wait before early stopping\n",
        "epochs_no_improve = 0\n",
        "best_validation_loss = float('inf')\n",
        "\n",
        "\n",
        "scaler = GradScaler()  # Mixed precision training\n",
        "\n",
        "# Define the optimizer\n",
        "optimizer = optim.AdamW(model.parameters(), lr=1e-5)\n",
        "\n",
        "# Calculate total steps\n",
        "total_steps = len(train_dataloader) // gradient_accumulation_steps * num_epochs\n",
        "\n",
        "# Define the scheduler\n",
        "scheduler = get_linear_schedule_with_warmup(\n",
        "    optimizer,\n",
        "    num_warmup_steps=int(0.1 * total_steps),  # Warm-up for 10% of the steps\n",
        "    num_training_steps=total_steps\n",
        ")\n",
        "\n",
        "for epoch in range(num_epochs):\n",
        "    model.train()\n",
        "    total_loss = 0\n",
        "\n",
        "    for batch in train_dataloader:\n",
        "        # Do not zero gradients here; we accumulate them\n",
        "        with autocast():\n",
        "            outputs = model(\n",
        "                input_ids=batch['input_ids'].to(device),\n",
        "                attention_mask=batch['attention_mask'].to(device),\n",
        "                labels=batch['label'].to(device)\n",
        "            )\n",
        "            loss = outputs.loss / gradient_accumulation_steps\n",
        "\n",
        "        # Scaled backward for mixed precision\n",
        "        scaler.scale(loss).backward()\n",
        "\n",
        "        # Gradient accumulation and scaler step\n",
        "        if (step + 1) % gradient_accumulation_steps == 0:\n",
        "            scaler.step(optimizer)\n",
        "            scaler.update()\n",
        "            optimizer.zero_grad()\n",
        "            scheduler.step()\n",
        "\n",
        "        total_loss += loss.item()\n",
        "        step += 1  # Increment step\n",
        "\n",
        "    # Validation step\n",
        "    model.eval()\n",
        "    validation_loss = 0\n",
        "    with torch.no_grad():\n",
        "        for batch in validation_dataloader:\n",
        "            with autocast():\n",
        "                outputs = model(\n",
        "                    input_ids=batch['input_ids'].to(device),\n",
        "                    attention_mask=batch['attention_mask'].to(device),\n",
        "                    labels=batch['label'].to(device)\n",
        "                )\n",
        "                loss = outputs.loss\n",
        "                validation_loss += loss.item()\n",
        "    validation_loss /= len(validation_dataloader)\n",
        "\n",
        "    print(f'Epoch {epoch+1}, Validation Loss: {validation_loss}')\n",
        "\n",
        "    # Early stopping logic\n",
        "    if validation_loss < best_validation_loss:\n",
        "        best_validation_loss = validation_loss\n",
        "        epochs_no_improve = 0  # Reset counter\n",
        "        # Optionally save the best model here\n",
        "    else:\n",
        "        epochs_no_improve += 1\n",
        "\n",
        "    if early_stopping and epochs_no_improve >= patience:\n",
        "        print('Stopping early due to no improvement in validation loss')\n",
        "        break\n"
      ]
    },
    {
      "cell_type": "markdown",
      "metadata": {
        "id": "RQMFmND1dQZU"
      },
      "source": [
        "## 6. Evaluation"
      ]
    },
    {
      "cell_type": "code",
      "execution_count": 47,
      "metadata": {
        "colab": {
          "base_uri": "https://localhost:8080/"
        },
        "id": "KaMXoI6gdQZU",
        "outputId": "7cb882c2-5098-480e-def6-bd409659b2a0"
      },
      "outputs": [
        {
          "output_type": "stream",
          "name": "stdout",
          "text": [
            "Test Accuracy: 0.724, Test Loss: 1.0161969652251592, Test F1 Score: 0.7151875052905601\n"
          ]
        }
      ],
      "source": [
        "from sklearn.metrics import accuracy_score, f1_score\n",
        "\n",
        "\n",
        "def eval_model(model, data_loader, loss_fn, device):\n",
        "\tmodel.eval()\n",
        "\tcorrect_predictions = 0\n",
        "\ttotal_loss = 0\n",
        "\n",
        "\tall_preds = []\n",
        "\tall_labels = []\n",
        "\n",
        "\twith torch.no_grad():\n",
        "\t\tfor batch in data_loader:\n",
        "\t\t\tinput_ids = batch['input_ids'].to(device)\n",
        "\t\t\tattention_mask = batch['attention_mask'].to(device)\n",
        "\t\t\tlabels = batch['label'].to(device)\n",
        "\n",
        "\t\t\toutputs = model(input_ids=input_ids, attention_mask=attention_mask, labels=labels)\n",
        "\t\t\tloss = outputs.loss\n",
        "\t\t\tlogits = outputs.logits\n",
        "\n",
        "\t\t\ttotal_loss += loss.item()\n",
        "\n",
        "\t\t\t_, preds = torch.max(logits, dim=1)\n",
        "\t\t\tcorrect_predictions += torch.sum(preds == labels)\n",
        "\n",
        "\t\t\t# Store predictions and labels for F1 score calculation\n",
        "\t\t\tall_preds.extend(preds.cpu().numpy())\n",
        "\t\t\tall_labels.extend(labels.cpu().numpy())\n",
        "\n",
        "\t# Calculate accuracy\n",
        "\taccuracy = correct_predictions.double() / len(data_loader.dataset)\n",
        "\n",
        "\t# Calculate F1 score\n",
        "\tf1 = f1_score(all_labels, all_preds, average='weighted')\n",
        "\n",
        "\treturn accuracy, total_loss / len(data_loader), f1\n",
        "\n",
        "\n",
        "test_acc, test_loss, test_f1 = eval_model(model, test_dataloader, loss_fn, device)\n",
        "print(f'Test Accuracy: {test_acc}, Test Loss: {test_loss}, Test F1 Score: {test_f1}')"
      ]
    }
  ],
  "metadata": {
    "kernelspec": {
      "display_name": "Python 3",
      "name": "python3"
    },
    "language_info": {
      "codemirror_mode": {
        "name": "ipython",
        "version": 3
      },
      "file_extension": ".py",
      "mimetype": "text/x-python",
      "name": "python",
      "nbconvert_exporter": "python",
      "pygments_lexer": "ipython3",
      "version": "3.11.2"
    },
    "colab": {
      "provenance": [],
      "gpuType": "T4"
    },
    "accelerator": "GPU"
  },
  "nbformat": 4,
  "nbformat_minor": 0
}